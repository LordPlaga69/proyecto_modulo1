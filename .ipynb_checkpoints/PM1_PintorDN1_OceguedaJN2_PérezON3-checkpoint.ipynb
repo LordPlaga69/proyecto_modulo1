{
 "cells": [
  {
   "cell_type": "markdown",
   "metadata": {},
   "source": [
    "# Proyecto Módulo 1 - Producto Interno Bruto Mexicano, proyecciones y expectativas para el futuro, modelo optimizado por ajuste de curvas\n",
    "## Simulación Matemática - Cristian Camilo Zapata Zuluaga\n",
    "## Integrantes: \n",
    "## - Diego Pintor Ochoa - IF726622\n",
    "## - José Joaquín Ocegueda Zamora -  if722318\n",
    "## - Óscar Miguel Pérez islas - IF725726"
   ]
  },
  {
   "cell_type": "markdown",
   "metadata": {},
   "source": [
    "##  Objetivos\n",
    "### Objetivo General\n",
    "En este proyecto se apunta a optimizar un modelo de ajuste de curvas para hacer proyecciones del crecimiento del Producto Interno Bruto (PIB) y PIB per Cápita de México en base a datos del PIB recogidos de 1960 a 2018 por parte del Banco Mundial, para poder hacer pronósticos económicos del futuro del país.\n",
    "### Objetivos Específicos\n",
    "- Presentar los datos recogidos por año tanto para el PIB como el PIB per cápita\n",
    "- Presentar el modelo de ajuste de curva a usarse\n",
    "- Ajustar el modelo para polinomios de grado 1, 2 y 3\n",
    "- Encontrar el modelo que mejor se ajuste a la realidad\n",
    "- Utilizar el modelo para encontrar el PIB de este año y ver que tanto se acerca a la realidad\n",
    "- Realizar un pronóstico usando el modelo para 2021"
   ]
  },
  {
   "cell_type": "code",
   "execution_count": 1,
   "metadata": {},
   "outputs": [],
   "source": [
    "import pandas as pd\n",
    "import sympy as sym\n",
    "import scipy.optimize as opt\n",
    "import numpy as np\n",
    "import matplotlib.pyplot as plt"
   ]
  },
  {
   "cell_type": "markdown",
   "metadata": {},
   "source": [
    "## Modelo que representa el problema\n",
    "Los siguientes datos presentan un aproximado por parte del banco mundial del valor del PIB en dólares estadonidenses constantes de 2010 de los Estados Unidos Mexicanos, comenzando por 1960, y el PIB per Cápita (PIB dividido entre la población Mexicana ese año) en dólares estadounidenses constantes de 2010."
   ]
  },
  {
   "cell_type": "code",
   "execution_count": 2,
   "metadata": {
    "scrolled": true
   },
   "outputs": [
    {
     "data": {
      "text/html": [
       "<div>\n",
       "<style scoped>\n",
       "    .dataframe tbody tr th:only-of-type {\n",
       "        vertical-align: middle;\n",
       "    }\n",
       "\n",
       "    .dataframe tbody tr th {\n",
       "        vertical-align: top;\n",
       "    }\n",
       "\n",
       "    .dataframe thead th {\n",
       "        text-align: right;\n",
       "    }\n",
       "</style>\n",
       "<table border=\"1\" class=\"dataframe\">\n",
       "  <thead>\n",
       "    <tr style=\"text-align: right;\">\n",
       "      <th></th>\n",
       "      <th>0</th>\n",
       "      <th>PIB CONSTANTE 2010</th>\n",
       "      <th>PIB PER CAPITA</th>\n",
       "      <th>PIB/1000</th>\n",
       "    </tr>\n",
       "  </thead>\n",
       "  <tbody>\n",
       "    <tr>\n",
       "      <td>0</td>\n",
       "      <td>1</td>\n",
       "      <td>147,593,000,000.00</td>\n",
       "      <td>4.315382</td>\n",
       "      <td>147593000</td>\n",
       "    </tr>\n",
       "    <tr>\n",
       "      <td>1</td>\n",
       "      <td>2</td>\n",
       "      <td>154,973,000,000.00</td>\n",
       "      <td>4.542415</td>\n",
       "      <td>154973000</td>\n",
       "    </tr>\n",
       "    <tr>\n",
       "      <td>2</td>\n",
       "      <td>3</td>\n",
       "      <td>162,202,000,000.00</td>\n",
       "      <td>4.726919</td>\n",
       "      <td>162202000</td>\n",
       "    </tr>\n",
       "    <tr>\n",
       "      <td>3</td>\n",
       "      <td>4</td>\n",
       "      <td>175,351,000,000.00</td>\n",
       "      <td>5.113070</td>\n",
       "      <td>175351000</td>\n",
       "    </tr>\n",
       "    <tr>\n",
       "      <td>4</td>\n",
       "      <td>5</td>\n",
       "      <td>196,227,000,000.00</td>\n",
       "      <td>5.868451</td>\n",
       "      <td>196227000</td>\n",
       "    </tr>\n",
       "    <tr>\n",
       "      <td>5</td>\n",
       "      <td>6</td>\n",
       "      <td>210,160,000,000.00</td>\n",
       "      <td>6.187130</td>\n",
       "      <td>210160000</td>\n",
       "    </tr>\n",
       "    <tr>\n",
       "      <td>6</td>\n",
       "      <td>7</td>\n",
       "      <td>222,971,000,000.00</td>\n",
       "      <td>6.678422</td>\n",
       "      <td>222971000</td>\n",
       "    </tr>\n",
       "    <tr>\n",
       "      <td>7</td>\n",
       "      <td>8</td>\n",
       "      <td>236,026,000,000.00</td>\n",
       "      <td>7.070418</td>\n",
       "      <td>236026000</td>\n",
       "    </tr>\n",
       "    <tr>\n",
       "      <td>8</td>\n",
       "      <td>9</td>\n",
       "      <td>258,267,000,000.00</td>\n",
       "      <td>7.577639</td>\n",
       "      <td>258267000</td>\n",
       "    </tr>\n",
       "    <tr>\n",
       "      <td>9</td>\n",
       "      <td>10</td>\n",
       "      <td>267,097,000,000.00</td>\n",
       "      <td>8.128896</td>\n",
       "      <td>267097000</td>\n",
       "    </tr>\n",
       "    <tr>\n",
       "      <td>10</td>\n",
       "      <td>11</td>\n",
       "      <td>284,464,000,000.00</td>\n",
       "      <td>8.622437</td>\n",
       "      <td>284464000</td>\n",
       "    </tr>\n",
       "    <tr>\n",
       "      <td>11</td>\n",
       "      <td>12</td>\n",
       "      <td>295,167,000,000.00</td>\n",
       "      <td>9.231980</td>\n",
       "      <td>295167000</td>\n",
       "    </tr>\n",
       "    <tr>\n",
       "      <td>12</td>\n",
       "      <td>13</td>\n",
       "      <td>319,456,000,000.00</td>\n",
       "      <td>10.330967</td>\n",
       "      <td>319456000</td>\n",
       "    </tr>\n",
       "    <tr>\n",
       "      <td>13</td>\n",
       "      <td>14</td>\n",
       "      <td>344,569,000,000.00</td>\n",
       "      <td>12.268239</td>\n",
       "      <td>344569000</td>\n",
       "    </tr>\n",
       "    <tr>\n",
       "      <td>14</td>\n",
       "      <td>15</td>\n",
       "      <td>364,474,000,000.00</td>\n",
       "      <td>15.526128</td>\n",
       "      <td>364474000</td>\n",
       "    </tr>\n",
       "    <tr>\n",
       "      <td>15</td>\n",
       "      <td>16</td>\n",
       "      <td>385,411,000,000.00</td>\n",
       "      <td>18.453913</td>\n",
       "      <td>385411000</td>\n",
       "    </tr>\n",
       "    <tr>\n",
       "      <td>16</td>\n",
       "      <td>17</td>\n",
       "      <td>402,437,000,000.00</td>\n",
       "      <td>22.386528</td>\n",
       "      <td>402437000</td>\n",
       "    </tr>\n",
       "    <tr>\n",
       "      <td>17</td>\n",
       "      <td>18</td>\n",
       "      <td>416,082,000,000.00</td>\n",
       "      <td>29.409939</td>\n",
       "      <td>416082000</td>\n",
       "    </tr>\n",
       "    <tr>\n",
       "      <td>18</td>\n",
       "      <td>19</td>\n",
       "      <td>453,350,000,000.00</td>\n",
       "      <td>36.235441</td>\n",
       "      <td>453350000</td>\n",
       "    </tr>\n",
       "    <tr>\n",
       "      <td>19</td>\n",
       "      <td>20</td>\n",
       "      <td>497,317,000,000.00</td>\n",
       "      <td>46.397749</td>\n",
       "      <td>497317000</td>\n",
       "    </tr>\n",
       "    <tr>\n",
       "      <td>20</td>\n",
       "      <td>21</td>\n",
       "      <td>543,235,000,000.00</td>\n",
       "      <td>69.629626</td>\n",
       "      <td>543235000</td>\n",
       "    </tr>\n",
       "    <tr>\n",
       "      <td>21</td>\n",
       "      <td>22</td>\n",
       "      <td>589,549,000,000.00</td>\n",
       "      <td>93.174256</td>\n",
       "      <td>589549000</td>\n",
       "    </tr>\n",
       "    <tr>\n",
       "      <td>22</td>\n",
       "      <td>23</td>\n",
       "      <td>586,479,000,000.00</td>\n",
       "      <td>146.526228</td>\n",
       "      <td>586479000</td>\n",
       "    </tr>\n",
       "    <tr>\n",
       "      <td>23</td>\n",
       "      <td>24</td>\n",
       "      <td>566,032,000,000.00</td>\n",
       "      <td>257.941144</td>\n",
       "      <td>566032000</td>\n",
       "    </tr>\n",
       "    <tr>\n",
       "      <td>24</td>\n",
       "      <td>25</td>\n",
       "      <td>585,338,000,000.00</td>\n",
       "      <td>415.843778</td>\n",
       "      <td>585338000</td>\n",
       "    </tr>\n",
       "    <tr>\n",
       "      <td>25</td>\n",
       "      <td>26</td>\n",
       "      <td>598,143,000,000.00</td>\n",
       "      <td>660.037691</td>\n",
       "      <td>598143000</td>\n",
       "    </tr>\n",
       "    <tr>\n",
       "      <td>26</td>\n",
       "      <td>27</td>\n",
       "      <td>579,727,000,000.00</td>\n",
       "      <td>1060.808065</td>\n",
       "      <td>579727000</td>\n",
       "    </tr>\n",
       "    <tr>\n",
       "      <td>27</td>\n",
       "      <td>28</td>\n",
       "      <td>589,712,000,000.00</td>\n",
       "      <td>2567.429767</td>\n",
       "      <td>589712000</td>\n",
       "    </tr>\n",
       "    <tr>\n",
       "      <td>28</td>\n",
       "      <td>29</td>\n",
       "      <td>597,280,000,000.00</td>\n",
       "      <td>5109.886741</td>\n",
       "      <td>597280000</td>\n",
       "    </tr>\n",
       "    <tr>\n",
       "      <td>29</td>\n",
       "      <td>30</td>\n",
       "      <td>621,801,000,000.00</td>\n",
       "      <td>6616.302311</td>\n",
       "      <td>621801000</td>\n",
       "    </tr>\n",
       "    <tr>\n",
       "      <td>30</td>\n",
       "      <td>31</td>\n",
       "      <td>653,984,000,000.00</td>\n",
       "      <td>8753.566962</td>\n",
       "      <td>653984000</td>\n",
       "    </tr>\n",
       "    <tr>\n",
       "      <td>31</td>\n",
       "      <td>32</td>\n",
       "      <td>681,548,000,000.00</td>\n",
       "      <td>11053.223480</td>\n",
       "      <td>681548000</td>\n",
       "    </tr>\n",
       "    <tr>\n",
       "      <td>32</td>\n",
       "      <td>33</td>\n",
       "      <td>705,682,000,000.00</td>\n",
       "      <td>12907.662010</td>\n",
       "      <td>705682000</td>\n",
       "    </tr>\n",
       "    <tr>\n",
       "      <td>33</td>\n",
       "      <td>34</td>\n",
       "      <td>719,381,000,000.00</td>\n",
       "      <td>17603.221900</td>\n",
       "      <td>719381000</td>\n",
       "    </tr>\n",
       "    <tr>\n",
       "      <td>34</td>\n",
       "      <td>35</td>\n",
       "      <td>754,926,000,000.00</td>\n",
       "      <td>19759.245710</td>\n",
       "      <td>754926000</td>\n",
       "    </tr>\n",
       "    <tr>\n",
       "      <td>35</td>\n",
       "      <td>36</td>\n",
       "      <td>707,432,000,000.00</td>\n",
       "      <td>25216.840670</td>\n",
       "      <td>707432000</td>\n",
       "    </tr>\n",
       "    <tr>\n",
       "      <td>36</td>\n",
       "      <td>37</td>\n",
       "      <td>755,348,000,000.00</td>\n",
       "      <td>33529.436950</td>\n",
       "      <td>755348000</td>\n",
       "    </tr>\n",
       "    <tr>\n",
       "      <td>37</td>\n",
       "      <td>38</td>\n",
       "      <td>807,065,000,000.00</td>\n",
       "      <td>41882.276710</td>\n",
       "      <td>807065000</td>\n",
       "    </tr>\n",
       "    <tr>\n",
       "      <td>38</td>\n",
       "      <td>39</td>\n",
       "      <td>848,742,000,000.00</td>\n",
       "      <td>50076.074160</td>\n",
       "      <td>848742000</td>\n",
       "    </tr>\n",
       "    <tr>\n",
       "      <td>39</td>\n",
       "      <td>40</td>\n",
       "      <td>872,112,000,000.00</td>\n",
       "      <td>58865.222940</td>\n",
       "      <td>872112000</td>\n",
       "    </tr>\n",
       "    <tr>\n",
       "      <td>40</td>\n",
       "      <td>41</td>\n",
       "      <td>915,216,000,000.00</td>\n",
       "      <td>67681.430780</td>\n",
       "      <td>915216000</td>\n",
       "    </tr>\n",
       "    <tr>\n",
       "      <td>41</td>\n",
       "      <td>42</td>\n",
       "      <td>911,515,000,000.00</td>\n",
       "      <td>70483.623680</td>\n",
       "      <td>911515000</td>\n",
       "    </tr>\n",
       "    <tr>\n",
       "      <td>42</td>\n",
       "      <td>43</td>\n",
       "      <td>911,152,000,000.00</td>\n",
       "      <td>73319.338530</td>\n",
       "      <td>911152000</td>\n",
       "    </tr>\n",
       "    <tr>\n",
       "      <td>43</td>\n",
       "      <td>44</td>\n",
       "      <td>924,331,000,000.00</td>\n",
       "      <td>76336.163080</td>\n",
       "      <td>924331000</td>\n",
       "    </tr>\n",
       "    <tr>\n",
       "      <td>44</td>\n",
       "      <td>45</td>\n",
       "      <td>960,570,000,000.00</td>\n",
       "      <td>84469.915110</td>\n",
       "      <td>960570000</td>\n",
       "    </tr>\n",
       "    <tr>\n",
       "      <td>45</td>\n",
       "      <td>46</td>\n",
       "      <td>982,738,000,000.00</td>\n",
       "      <td>90209.233530</td>\n",
       "      <td>982738000</td>\n",
       "    </tr>\n",
       "    <tr>\n",
       "      <td>46</td>\n",
       "      <td>47</td>\n",
       "      <td>1,026,910,000,000.00</td>\n",
       "      <td>98837.154180</td>\n",
       "      <td>1026910000</td>\n",
       "    </tr>\n",
       "    <tr>\n",
       "      <td>47</td>\n",
       "      <td>48</td>\n",
       "      <td>1,050,440,000,000.00</td>\n",
       "      <td>105377.142200</td>\n",
       "      <td>1050440000</td>\n",
       "    </tr>\n",
       "    <tr>\n",
       "      <td>48</td>\n",
       "      <td>49</td>\n",
       "      <td>1,062,460,000,000.00</td>\n",
       "      <td>111481.433600</td>\n",
       "      <td>1062460000</td>\n",
       "    </tr>\n",
       "    <tr>\n",
       "      <td>49</td>\n",
       "      <td>50</td>\n",
       "      <td>1,006,300,000,000.00</td>\n",
       "      <td>108148.163600</td>\n",
       "      <td>1006300000</td>\n",
       "    </tr>\n",
       "    <tr>\n",
       "      <td>50</td>\n",
       "      <td>51</td>\n",
       "      <td>1,057,800,000,000.00</td>\n",
       "      <td>117153.388100</td>\n",
       "      <td>1057800000</td>\n",
       "    </tr>\n",
       "    <tr>\n",
       "      <td>51</td>\n",
       "      <td>52</td>\n",
       "      <td>1,096,550,000,000.00</td>\n",
       "      <td>126760.158300</td>\n",
       "      <td>1096550000</td>\n",
       "    </tr>\n",
       "    <tr>\n",
       "      <td>52</td>\n",
       "      <td>53</td>\n",
       "      <td>1,136,490,000,000.00</td>\n",
       "      <td>134878.435800</td>\n",
       "      <td>1136490000</td>\n",
       "    </tr>\n",
       "    <tr>\n",
       "      <td>53</td>\n",
       "      <td>54</td>\n",
       "      <td>1,151,880,000,000.00</td>\n",
       "      <td>136982.041300</td>\n",
       "      <td>1151880000</td>\n",
       "    </tr>\n",
       "    <tr>\n",
       "      <td>54</td>\n",
       "      <td>55</td>\n",
       "      <td>1,184,180,000,000.00</td>\n",
       "      <td>145185.683600</td>\n",
       "      <td>1184180000</td>\n",
       "    </tr>\n",
       "    <tr>\n",
       "      <td>55</td>\n",
       "      <td>56</td>\n",
       "      <td>1,223,120,000,000.00</td>\n",
       "      <td>152238.014600</td>\n",
       "      <td>1223120000</td>\n",
       "    </tr>\n",
       "    <tr>\n",
       "      <td>56</td>\n",
       "      <td>57</td>\n",
       "      <td>1,258,720,000,000.00</td>\n",
       "      <td>163119.680800</td>\n",
       "      <td>1258720000</td>\n",
       "    </tr>\n",
       "    <tr>\n",
       "      <td>57</td>\n",
       "      <td>58</td>\n",
       "      <td>1,285,380,000,000.00</td>\n",
       "      <td>175607.981500</td>\n",
       "      <td>1285380000</td>\n",
       "    </tr>\n",
       "    <tr>\n",
       "      <td>58</td>\n",
       "      <td>59</td>\n",
       "      <td>1,312,830,000,000.00</td>\n",
       "      <td>186158.652100</td>\n",
       "      <td>1312830000</td>\n",
       "    </tr>\n",
       "  </tbody>\n",
       "</table>\n",
       "</div>"
      ],
      "text/plain": [
       "     0   PIB CONSTANTE 2010   PIB PER CAPITA    PIB/1000\n",
       "0    1    147,593,000,000.00        4.315382   147593000\n",
       "1    2    154,973,000,000.00        4.542415   154973000\n",
       "2    3    162,202,000,000.00        4.726919   162202000\n",
       "3    4    175,351,000,000.00        5.113070   175351000\n",
       "4    5    196,227,000,000.00        5.868451   196227000\n",
       "5    6    210,160,000,000.00        6.187130   210160000\n",
       "6    7    222,971,000,000.00        6.678422   222971000\n",
       "7    8    236,026,000,000.00        7.070418   236026000\n",
       "8    9    258,267,000,000.00        7.577639   258267000\n",
       "9   10    267,097,000,000.00        8.128896   267097000\n",
       "10  11    284,464,000,000.00        8.622437   284464000\n",
       "11  12    295,167,000,000.00        9.231980   295167000\n",
       "12  13    319,456,000,000.00       10.330967   319456000\n",
       "13  14    344,569,000,000.00       12.268239   344569000\n",
       "14  15    364,474,000,000.00       15.526128   364474000\n",
       "15  16    385,411,000,000.00       18.453913   385411000\n",
       "16  17    402,437,000,000.00       22.386528   402437000\n",
       "17  18    416,082,000,000.00       29.409939   416082000\n",
       "18  19    453,350,000,000.00       36.235441   453350000\n",
       "19  20    497,317,000,000.00       46.397749   497317000\n",
       "20  21    543,235,000,000.00       69.629626   543235000\n",
       "21  22    589,549,000,000.00       93.174256   589549000\n",
       "22  23    586,479,000,000.00      146.526228   586479000\n",
       "23  24    566,032,000,000.00      257.941144   566032000\n",
       "24  25    585,338,000,000.00      415.843778   585338000\n",
       "25  26    598,143,000,000.00      660.037691   598143000\n",
       "26  27    579,727,000,000.00     1060.808065   579727000\n",
       "27  28    589,712,000,000.00     2567.429767   589712000\n",
       "28  29    597,280,000,000.00     5109.886741   597280000\n",
       "29  30    621,801,000,000.00     6616.302311   621801000\n",
       "30  31    653,984,000,000.00     8753.566962   653984000\n",
       "31  32    681,548,000,000.00    11053.223480   681548000\n",
       "32  33    705,682,000,000.00    12907.662010   705682000\n",
       "33  34    719,381,000,000.00    17603.221900   719381000\n",
       "34  35    754,926,000,000.00    19759.245710   754926000\n",
       "35  36    707,432,000,000.00    25216.840670   707432000\n",
       "36  37    755,348,000,000.00    33529.436950   755348000\n",
       "37  38    807,065,000,000.00    41882.276710   807065000\n",
       "38  39    848,742,000,000.00    50076.074160   848742000\n",
       "39  40    872,112,000,000.00    58865.222940   872112000\n",
       "40  41    915,216,000,000.00    67681.430780   915216000\n",
       "41  42    911,515,000,000.00    70483.623680   911515000\n",
       "42  43    911,152,000,000.00    73319.338530   911152000\n",
       "43  44    924,331,000,000.00    76336.163080   924331000\n",
       "44  45    960,570,000,000.00    84469.915110   960570000\n",
       "45  46    982,738,000,000.00    90209.233530   982738000\n",
       "46  47  1,026,910,000,000.00    98837.154180  1026910000\n",
       "47  48  1,050,440,000,000.00   105377.142200  1050440000\n",
       "48  49  1,062,460,000,000.00   111481.433600  1062460000\n",
       "49  50  1,006,300,000,000.00   108148.163600  1006300000\n",
       "50  51  1,057,800,000,000.00   117153.388100  1057800000\n",
       "51  52  1,096,550,000,000.00   126760.158300  1096550000\n",
       "52  53  1,136,490,000,000.00   134878.435800  1136490000\n",
       "53  54  1,151,880,000,000.00   136982.041300  1151880000\n",
       "54  55  1,184,180,000,000.00   145185.683600  1184180000\n",
       "55  56  1,223,120,000,000.00   152238.014600  1223120000\n",
       "56  57  1,258,720,000,000.00   163119.680800  1258720000\n",
       "57  58  1,285,380,000,000.00   175607.981500  1285380000\n",
       "58  59  1,312,830,000,000.00   186158.652100  1312830000"
      ]
     },
     "execution_count": 2,
     "metadata": {},
     "output_type": "execute_result"
    }
   ],
   "source": [
    "archivo = 'PIBS MEXICO.csv'\n",
    "data = pd.read_csv(archivo)\n",
    "data"
   ]
  },
  {
   "cell_type": "markdown",
   "metadata": {},
   "source": [
    "Para poder crear pronósticos del PIB, se necesita crear un modelo que ajuste los datos para poder intentar predecir el PIB del año que viene. \n",
    "En este caso se utilizará un Ajuste de Curvas para polinomios de grado 1, 2 y 3.\n",
    "### Modelo de Ajuste de Curvas\n",
    "Según Wikipedia:\n",
    "> El **ajuste de curvas** es el proceso de construir una curva (función), que sea el mejor ajuste a una serie de puntos. Las curvas ajustadas pueden ser usadas como asistencia en la visualización de datos, para inferir valores de una función donde no hay datos disponibles, y para resumir la relación entre variables. \n",
    "- https://en.wikipedia.org/wiki/Curve_fitting\n",
    "\n",
    "Para el trabajo con los polinomios, empecemos considerando un polinomio de grado 1:\n",
    "$$y = \\beta_1 x + \\beta_0.$$\\\n",
    "En este caso, el polinomio representa una línea recta, la cual relacionará de manera lineal los términos asociando una pendiente a la recta la cual refleja la tendencia de crecimiento de estos.\n",
    "Si quisiemos ajustar una curva a una serie de datos que asemejan crecer de forma distinta a una línea, tendríamos que ajustar un polinomio, ya sea de grado 2 o de grado 3 para poder reflejar con mayor fidelidad los datos, entonces, un polinomio de grado 2 se vería:\n",
    "$$y = \\beta_2 x^2 +\\beta_1 x + \\beta_0.$$\n",
    "Y un polinomio de grado 3:\n",
    "$$y =  \\beta_3 x^3 + \\beta_2 x^2 +\\beta_1 x + \\beta_0.$$\n",
    "En este modelo se distinguen 3 componentes y sus variaciones:\n",
    "- $$y $$ que representa el PIB o el PIB per Cápita \n",
    "- $$\\beta$$ que representa el coeficiente de la variable\n",
    "- $$ x $$ que representa la variable, en este caso, el año con el que se trabaja (consecutivo i.e 1,2,3,...)\n",
    "\n",
    "En el ajuste de curvas, se deciden coeficientes adecuados para los $$ \\beta$$ que acompañan a las variables, el criterio para eso, es que la suma de los errores al cuadrado (la distancia que varían los coeficientes de los valores reales) sea **mínima**. Esto es:\n",
    "$$\\boldsymbol{\\beta}^{ls} = \\arg \\min_{\\boldsymbol{\\beta}} \\left|\\left|\\boldsymbol{y}-\\boldsymbol{X}\\boldsymbol{\\beta}\\right|\\right|^2$$\n"
   ]
  },
  {
   "cell_type": "markdown",
   "metadata": {},
   "source": [
    "## Solución al problema de optimización"
   ]
  },
  {
   "cell_type": "code",
   "execution_count": 3,
   "metadata": {
    "scrolled": true
   },
   "outputs": [],
   "source": [
    "x = data.iloc[:,0]\n",
    "yPIB = data.iloc[:,3]\n",
    "yPIBpC = data.iloc[:,2]"
   ]
  },
  {
   "cell_type": "code",
   "execution_count": 4,
   "metadata": {},
   "outputs": [],
   "source": [
    "def fun_obj1(beta,x,yPIB,n):\n",
    "    return np.sum((yPIB-beta.dot([x**i for i in range(n+1)]))**2)\n",
    "def fun_obj2(beta,x,yPIBpC,n):\n",
    "    return np.sum((yPIBpC-beta.dot([x**i for i in range(n+1)]))**2)"
   ]
  },
  {
   "cell_type": "markdown",
   "metadata": {},
   "source": [
    "PIB NORMAL"
   ]
  },
  {
   "cell_type": "code",
   "execution_count": 5,
   "metadata": {},
   "outputs": [],
   "source": [
    "b01 = np.zeros(2)\n",
    "ajuste1 = opt.minimize(fun_obj1, b01, args=(x,yPIB,1))\n",
    "b02 = np.zeros(3)\n",
    "ajuste2 = opt.minimize(fun_obj1, b02, args=(x,yPIB,2))\n",
    "b03 = np.zeros(4)\n",
    "ajuste3 = opt.minimize(fun_obj1, b03, args=(x,yPIB,3))"
   ]
  },
  {
   "cell_type": "code",
   "execution_count": 6,
   "metadata": {
    "scrolled": true
   },
   "outputs": [
    {
     "data": {
      "text/plain": [
       "      fun: 1.4916185206166317e+17\n",
       " hess_inv: array([[ 4.25536846e-08, -2.12768423e-08],\n",
       "       [-2.12768423e-08,  1.06384212e-08]])\n",
       "      jac: array([0., 0.])\n",
       "  message: 'Optimization terminated successfully.'\n",
       "     nfev: 280\n",
       "      nit: 11\n",
       "     njev: 70\n",
       "   status: 0\n",
       "  success: True\n",
       "        x: array([  908864.8704524 , 21702798.03442747])"
      ]
     },
     "execution_count": 6,
     "metadata": {},
     "output_type": "execute_result"
    }
   ],
   "source": [
    "ajuste1"
   ]
  },
  {
   "cell_type": "code",
   "execution_count": 7,
   "metadata": {
    "scrolled": true
   },
   "outputs": [
    {
     "data": {
      "text/plain": [
       "      fun: 7.742895899602266e+16\n",
       " hess_inv: array([[ 2.65593426e-04,  2.35005478e-04, -4.85300644e-06],\n",
       "       [ 2.35005478e-04,  2.41781923e-04, -5.18966261e-06],\n",
       "       [-4.85300644e-06, -5.18966261e-06,  1.14835141e-07]])\n",
       "      jac: array([-1.07374182e+09, -4.29496730e+09, -2.02937205e+11])\n",
       "  message: 'Desired error not necessarily achieved due to precision loss.'\n",
       "     nfev: 537\n",
       "      nit: 8\n",
       "     njev: 105\n",
       "   status: 2\n",
       "  success: False\n",
       "        x: array([ 4.63596104e+07,  2.09313152e+07, -8.34967469e+03])"
      ]
     },
     "execution_count": 7,
     "metadata": {},
     "output_type": "execute_result"
    }
   ],
   "source": [
    "ajuste2"
   ]
  },
  {
   "cell_type": "code",
   "execution_count": 8,
   "metadata": {
    "scrolled": true
   },
   "outputs": [
    {
     "data": {
      "text/plain": [
       "      fun: 4.225891302748427e+16\n",
       " hess_inv: array([[ 1.96472015e-11, -1.15076712e-07,  6.31183862e-09,\n",
       "        -7.85880567e-11],\n",
       "       [-1.15076712e-07,  7.63005167e-04, -3.88217888e-05,\n",
       "         4.60306850e-07],\n",
       "       [ 6.31183862e-09, -3.88217888e-05,  2.06803341e-06,\n",
       "        -2.52473545e-08],\n",
       "       [-7.85880567e-11,  4.60306850e-07, -2.52473545e-08,\n",
       "         3.14352227e-10]])\n",
       "      jac: array([-5.36870912e+08, -5.36870912e+08, -4.40234148e+10, -2.18345400e+12])\n",
       "  message: 'Desired error not necessarily achieved due to precision loss.'\n",
       "     nfev: 689\n",
       "      nit: 13\n",
       "     njev: 113\n",
       "   status: 2\n",
       "  success: False\n",
       "        x: array([ 1.00148014e+08,  1.94970518e+07, -8.79798580e+04,  1.71375120e+03])"
      ]
     },
     "execution_count": 8,
     "metadata": {},
     "output_type": "execute_result"
    }
   ],
   "source": [
    "ajuste3"
   ]
  },
  {
   "cell_type": "markdown",
   "metadata": {},
   "source": [
    "Regresión del PIB per cápita en México para observar su evolución"
   ]
  },
  {
   "cell_type": "code",
   "execution_count": 9,
   "metadata": {},
   "outputs": [],
   "source": [
    "b01pC = np.zeros(2)\n",
    "ajuste1pC = opt.minimize(fun_obj1, b01, args=(x,yPIBpC,1))\n",
    "b02pC = np.zeros(3)\n",
    "ajuste2pC = opt.minimize(fun_obj1, b02, args=(x,yPIBpC,2))\n",
    "b03pC = np.zeros(4)\n",
    "ajuste3pC = opt.minimize(fun_obj1, b03, args=(x,yPIBpC,3))"
   ]
  },
  {
   "cell_type": "code",
   "execution_count": 10,
   "metadata": {},
   "outputs": [
    {
     "data": {
      "text/plain": [
       "      fun: 40311425152.21291\n",
       " hess_inv: array([[ 8.47376900e-03, -4.78195261e-11],\n",
       "       [-4.78195261e-11,  1.59516844e-12]])\n",
       "      jac: array([   0., 1024.])\n",
       "  message: 'Desired error not necessarily achieved due to precision loss.'\n",
       "     nfev: 101\n",
       "      nit: 6\n",
       "     njev: 25\n",
       "   status: 2\n",
       "  success: False\n",
       "        x: array([-45106.91978794,   2928.0739477 ])"
      ]
     },
     "execution_count": 10,
     "metadata": {},
     "output_type": "execute_result"
    }
   ],
   "source": [
    "ajuste1pC"
   ]
  },
  {
   "cell_type": "code",
   "execution_count": 11,
   "metadata": {},
   "outputs": [
    {
     "data": {
      "text/plain": [
       "      fun: 2128452686.989314\n",
       " hess_inv: array([[ 8.16278963e-02, -5.48688121e-03,  7.68478989e-05],\n",
       "       [-5.48688121e-03,  4.82800117e-04, -7.56036631e-06],\n",
       "       [ 7.68478989e-05, -7.56036631e-06,  1.26019061e-07]])\n",
       "      jac: array([   0.,    0., -144.])\n",
       "  message: 'Desired error not necessarily achieved due to precision loss.'\n",
       "     nfev: 166\n",
       "      nit: 8\n",
       "     njev: 31\n",
       "   status: 2\n",
       "  success: False\n",
       "        x: array([14742.75746803, -2958.96353759,    98.11816983])"
      ]
     },
     "execution_count": 11,
     "metadata": {},
     "output_type": "execute_result"
    }
   ],
   "source": [
    "ajuste2pC"
   ]
  },
  {
   "cell_type": "code",
   "execution_count": 12,
   "metadata": {
    "scrolled": true
   },
   "outputs": [
    {
     "data": {
      "text/plain": [
       "      fun: 1867757343.2328832\n",
       " hess_inv: array([[ 4.77327173e-07, -1.67339104e-07,  1.72950105e-07,\n",
       "        -3.24660530e-09],\n",
       "       [-1.67339104e-07,  1.15297722e-07, -1.18444789e-07,\n",
       "         2.30176847e-09],\n",
       "       [ 1.72950105e-07, -1.18444789e-07,  1.23225011e-07,\n",
       "        -2.39699798e-09],\n",
       "       [-3.24660530e-09,  2.30176847e-09, -2.39699798e-09,\n",
       "         4.75233826e-11]])\n",
       "      jac: array([  16.,   16.,  176., 9616.])\n",
       "  message: 'Desired error not necessarily achieved due to precision loss.'\n",
       "     nfev: 600\n",
       "      nit: 18\n",
       "     njev: 98\n",
       "   status: 2\n",
       "  success: False\n",
       "        x: array([ 8.58656650e+03, -1.77697430e+03,  4.92784127e+01,  5.42673235e-01])"
      ]
     },
     "execution_count": 12,
     "metadata": {},
     "output_type": "execute_result"
    }
   ],
   "source": [
    "ajuste3pC"
   ]
  },
  {
   "cell_type": "markdown",
   "metadata": {},
   "source": [
    "## Solución del Algoritmo y Modelos de ajuste\n",
    "### PIB Mexicano\n",
    "Para el caso del PIB mexicano desde 1960 hasta 2018, el algoritmo de ajuste ha arrojado 3 Polinomios diferentes: \\\n",
    "$ PIB = 908864.8704524 + 21702798.03442747x $\\\n",
    "con una precisión de 1.49e+17 \\\n",
    "$ PIB = 4.63596104e+07 + 2.09313152e+07x -8.34967469e+03x^2 $ \\\n",
    "con una precisión de 7.74e+16 \\\n",
    "$ PIB = 1.00148014e+08 + 1.94970518e+07x -8.79798580e+04x^2  + 1.71375120e+03x^3 $ \\\n",
    "con una precisión de 4.22e+16 \\\n",
    "Con esto, se tiene que el modelo más preciso es el polinomio de grado 3.\\\n",
    "### PIB per Cápita\n",
    "Para el caso del PIB mexicano per Cápita desde 1960 hasta 2018, el algoritmo de ajuste ha arrojado 3 Polinomios diferentes: \\\n",
    "$ PIBpC = -45106.91978794 + 2928.0739477x $ \\\n",
    "con una precisión de 40311425152 \\\n",
    "$ PIBpC = 14742.75746803 -2958.96353759x + 98.11816983x^2 $ \\\n",
    "con una precisión de 2128452686 \\\n",
    "$ PIBpC = 8.58656650e+03 -1.77697430e+03x +  49.2784127x^2 + 0.542673235x^3 $ \\\n",
    "con una precisión de 1867757343 \\\n",
    "Con esto, se tiene que el modelo más preciso es el polinomio de grado 3.\n"
   ]
  },
  {
   "cell_type": "markdown",
   "metadata": {},
   "source": [
    "## Gráficas ajustadas"
   ]
  },
  {
   "cell_type": "code",
   "execution_count": 13,
   "metadata": {
    "scrolled": false
   },
   "outputs": [
    {
     "data": {
      "text/plain": [
       "<matplotlib.legend.Legend at 0x1a0b1b22248>"
      ]
     },
     "execution_count": 13,
     "metadata": {},
     "output_type": "execute_result"
    },
    {
     "data": {
      "image/png": "[encoded data removed]",
      "text/plain": [
       "<Figure size 576x432 with 1 Axes>"
      ]
     },
     "metadata": {
      "needs_background": "light"
     },
     "output_type": "display_data"
    }
   ],
   "source": [
    "xpoints = x\n",
    "ypoints = yPIB\n",
    "yhat1 = (ajuste1.x[0]+ajuste1.x[1]*xpoints)\n",
    "yhat2 = (ajuste2.x[0]+ajuste2.x[1]*xpoints+ajuste2.x[2]*(xpoints**2))\n",
    "yhat3 = (ajuste3.x[0]+ajuste3.x[1]*xpoints+ajuste3.x[2]*(xpoints**2)+ajuste3.x[3]*(xpoints**3))\n",
    "plt.figure(figsize=(8,6))\n",
    "plt.plot(xpoints+1959, ypoints, 'r*', ms=5, label='Datos')\n",
    "plt.plot(xpoints+1959, yhat1, 'b', lw=2, label='Ajuste 1')\n",
    "plt.plot(xpoints+1959, yhat2, 'k', lw=2, label='Ajuste 2')\n",
    "plt.plot(xpoints+1959, yhat3, 'g', lw=2, label='Ajuste 3')\n",
    "plt.grid()\n",
    "plt.xlabel('Años')\n",
    "plt.ylabel('PIB en miles de millones de USD')\n",
    "plt.legend(loc='best')"
   ]
  },
  {
   "cell_type": "code",
   "execution_count": 14,
   "metadata": {},
   "outputs": [
    {
     "data": {
      "text/plain": [
       "<matplotlib.legend.Legend at 0x1a0b1ec7208>"
      ]
     },
     "execution_count": 14,
     "metadata": {},
     "output_type": "execute_result"
    },
    {
     "data": {
      "image/png": "[encoded data removed]",
      "text/plain": [
       "<Figure size 576x432 with 1 Axes>"
      ]
     },
     "metadata": {
      "needs_background": "light"
     },
     "output_type": "display_data"
    }
   ],
   "source": [
    "xpoints = x\n",
    "ypoints = yPIBpC\n",
    "yhat1 = (ajuste1pC.x[0]+ajuste1pC.x[1]*xpoints)\n",
    "yhat2 = (ajuste2pC.x[0]+ajuste2pC.x[1]*xpoints+ajuste2pC.x[2]*(xpoints**2))\n",
    "yhat3 = (ajuste3pC.x[0]+ajuste3pC.x[1]*xpoints+ajuste3pC.x[2]*(xpoints**2)+ajuste3pC.x[3]*(xpoints**3))\n",
    "plt.figure(figsize=(8,6))\n",
    "plt.plot(xpoints+1959, ypoints, 'r*', ms=5, label='Datos')\n",
    "plt.plot(xpoints+1959, yhat1, 'b', lw=2, label='Ajuste 1')\n",
    "plt.plot(xpoints+1959, yhat2, 'k', lw=2, label='Ajuste 2')\n",
    "plt.plot(xpoints+1959, yhat3, 'g', lw=2, label='Ajuste 3')\n",
    "plt.grid()\n",
    "plt.xlabel('Años')\n",
    "plt.ylabel('PIB en miles de millones de USD')\n",
    "plt.legend(loc='best')"
   ]
  },
  {
   "cell_type": "code",
   "execution_count": null,
   "metadata": {},
   "outputs": [],
   "source": []
  },
  {
   "cell_type": "markdown",
   "metadata": {},
   "source": [
    "# Conclusiones \n",
    "## ¿Qué modelo se acerca más a la realidad?\n",
    "### PIB mexicano\n",
    "Usando los 3 modelos, podemos observar el dato que mejor se ajuste al último dato registrado por el banco mundial.\n",
    "Restaremos el resultado obtenido al dato real y veremos que tanto se acerca en el último año.\n",
    "Veamos los resultados para los polinomios."
   ]
  },
  {
   "cell_type": "code",
   "execution_count": 15,
   "metadata": {},
   "outputs": [
    {
     "data": {
      "text/plain": [
       "(-1312705278.6308212, 1.2140161546671304e+16, -1312656807.604404)"
      ]
     },
     "execution_count": 15,
     "metadata": {},
     "output_type": "execute_result"
    }
   ],
   "source": [
    "final1 = (-45106.91978794 + 2928.0739477*58) - yPIB[58]\n",
    "final2 = (46359610 + 20931315.2e+07*(58) - 849.67469*58**2) - yPIB[58]\n",
    "final3 = (14742.75746803 - 2958.96353759*(58) + 98.11816983*58**2) - yPIB[58]\n",
    "final1,final2,final3"
   ]
  },
  {
   "cell_type": "markdown",
   "metadata": {},
   "source": [
    "Como podemos ver, el tercer polinomio nos ha dado un número mucho más cercano a la realidad, por lo que es considerado el polinomio de mejor ajuste."
   ]
  },
  {
   "cell_type": "markdown",
   "metadata": {},
   "source": [
    "### PIB per Cápita\n"
   ]
  },
  {
   "cell_type": "code",
   "execution_count": 16,
   "metadata": {},
   "outputs": [
    {
     "data": {
      "text/plain": [
       "(-61437.28292134001, -12966.256504070043, -8981.954449880024)"
      ]
     },
     "execution_count": 16,
     "metadata": {},
     "output_type": "execute_result"
    }
   ],
   "source": [
    "final1pC = (-45106.91978794 + 2928.0739477*58) - yPIBpC[58]\n",
    "final2pC = (14742.75746803 - 2958.96353759*58 + 98.11816983*58**2) - yPIBpC[58]\n",
    "final3pC = (8586.56650 - 1776.97430*58 +  49.2784127*58**2 + 0.542673235*58**3) - yPIBpC[58]\n",
    "final1pC,final2pC,final3pC"
   ]
  },
  {
   "cell_type": "markdown",
   "metadata": {},
   "source": [
    "Como podemos ver, otra vez, el tercer polinomio se acercó bastante a la realidad, por lo cual lo consideramos el polinomio de mejor ajuste."
   ]
  },
  {
   "cell_type": "markdown",
   "metadata": {},
   "source": [
    "## Prediciendo el futuro\n",
    "Utilizando el modelo de mejor ajuste, hemos tratado de predecir el PIB y el PIB per Cápita para 2019.\n",
    "Estos son nuestros resultados:"
   ]
  },
  {
   "cell_type": "code",
   "execution_count": 17,
   "metadata": {},
   "outputs": [
    {
     "data": {
      "text/plain": [
       "(181713.25792844998, 186736.92373976496)"
      ]
     },
     "execution_count": 17,
     "metadata": {},
     "output_type": "execute_result"
    }
   ],
   "source": [
    "pib2019 = (14742.75746803 - 2958.96353759*(59) + 98.11816983*59**2)\n",
    "pibpc2019 = (8586.56650 - 1776.97430*59 +  49.2784127*59**2 + 0.542673235*59**3)\n",
    "pib2019,pibpc2019"
   ]
  },
  {
   "cell_type": "markdown",
   "metadata": {},
   "source": [
    "Obtenemos que el PIB para 2019 será de 181713.25 (miles de millones) de dólares para 2019 y el PIB per Cápita 186736.92 dólares al año."
   ]
  },
  {
   "cell_type": "markdown",
   "metadata": {},
   "source": [
    "### ¿Porqué se tienen números tan grandes?\n",
    "Naturalmente se trabajan con cifras gigantescas, incluso aún cuando se trata con dólares estadounidenses para el PIB, porque México representa una de las economías más grandes del mundo (la 13a más grande del mundo y la 3era más grande de América).\n",
    "Esto deriva al final en una pérdida de precisión para el modelo, lo cual le resta fiabilidad al mismo ajuste de curva, además de constatar que este modelo no se ajusta o bien no puede tomar en cuenta situaciones ajenas a las matemáticas utilizadas en este modelo, como sean crisis mundiales, desastres naturales, guerras, etc.\n",
    "### ¿Porqué son útiles estos modelos?\n",
    "La utilidad de estos modelos radica en el pronóstico de crecimiento con propósitos de inversión y trabajo a largo plazo, así como herramientas de propaganda política para mostrar el crecimiento a partir de la efectividad de políticas aplicadas. De cualquier forma, para mí, el modelo tiene utilidad en mostrar la evolución tan grande que ha tenido México desde sus humildes inicios, y tratar de creer que nos seguimos moviendo hacia un futuro brillante a pesar de que las noticias reflejen otra realidad.\n",
    "### ¿Cómo se puede mejorar?\n",
    "Una de las formas en las que se puede pensar para mejorar la eficacia de uno de estos modelos sería quizás utilizar más datos, o utilizar otra forma de medición del PIB (ya sea usando otra moneda u otros criterios) para quitar de la ecuación hechos como la inflación o la volatilidad de las monedas.\n",
    "### Conclusiones Personales\n",
    "### Diego Pintor \n",
    "Al observar el PIB per cápita, me percato que es un número impresionantemente alto de dinero, el cual si se repartiese de forma equitativa haría a la mayoría de los mexicanos ricos instantáneamente. \n",
    "No creo en la repartición de la riqueza administrada por el estado, que es yo creo en lo que pensó López Obrador cuando llegó al poder, pero también es innegable que ese número refleja la tremenda desigualdad económica que hay en el país. Sumamente rico, pero sus habitantes en su mayoría pobres a la vez. \n",
    "Me gustaría poder hacer algo para que al menos la mayoría de sus habitantes fueran *prósperos*, yo creo que eso vale más que simplemente pensar que todos en México tenemos derecho a una riqueza tan inmensa."
   ]
  },
  {
   "cell_type": "code",
   "execution_count": null,
   "metadata": {},
   "outputs": [],
   "source": []
  }
 ],
 "metadata": {
  "kernelspec": {
   "display_name": "Python 3",
   "language": "python",
   "name": "python3"
  },
  "language_info": {
   "codemirror_mode": {
    "name": "ipython",
    "version": 3
   },
   "file_extension": ".py",
   "mimetype": "text/x-python",
   "name": "python",
   "nbconvert_exporter": "python",
   "pygments_lexer": "ipython3",
   "version": "3.7.4"
  }
 },
 "nbformat": 4,
 "nbformat_minor": 2
}
